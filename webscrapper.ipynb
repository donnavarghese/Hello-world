{
  "nbformat": 4,
  "nbformat_minor": 0,
  "metadata": {
    "colab": {
      "name": "webscrapper.ipynb",
      "provenance": [],
      "authorship_tag": "ABX9TyPZ3I6hei6tZYNuQ7NyNl6H",
      "include_colab_link": true
    },
    "kernelspec": {
      "name": "python3",
      "display_name": "Python 3"
    },
    "language_info": {
      "name": "python"
    }
  },
  "cells": [
    {
      "cell_type": "markdown",
      "metadata": {
        "id": "view-in-github",
        "colab_type": "text"
      },
      "source": [
        "<a href=\"https://colab.research.google.com/github/donnavarghese/Hello-world/blob/main/webscrapper.ipynb\" target=\"_parent\"><img src=\"https://colab.research.google.com/assets/colab-badge.svg\" alt=\"Open In Colab\"/></a>"
      ]
    },
    {
      "cell_type": "code",
      "source": [
        "pip install git+https://github.com/alirezamika/autoscraper.git"
      ],
      "metadata": {
        "colab": {
          "base_uri": "https://localhost:8080/"
        },
        "id": "Z7nYWpto1Uv6",
        "outputId": "60ef7dee-d596-42d9-e4dd-ec3c3dec9cfe"
      },
      "execution_count": 5,
      "outputs": [
        {
          "output_type": "stream",
          "name": "stdout",
          "text": [
            "Collecting git+https://github.com/alirezamika/autoscraper.git\n",
            "  Cloning https://github.com/alirezamika/autoscraper.git to /tmp/pip-req-build-vp49zpgi\n",
            "  Running command git clone -q https://github.com/alirezamika/autoscraper.git /tmp/pip-req-build-vp49zpgi\n",
            "Requirement already satisfied: requests in /usr/local/lib/python3.7/dist-packages (from autoscraper==1.1.12) (2.23.0)\n",
            "Requirement already satisfied: bs4 in /usr/local/lib/python3.7/dist-packages (from autoscraper==1.1.12) (0.0.1)\n",
            "Requirement already satisfied: lxml in /usr/local/lib/python3.7/dist-packages (from autoscraper==1.1.12) (4.2.6)\n",
            "Requirement already satisfied: beautifulsoup4 in /usr/local/lib/python3.7/dist-packages (from bs4->autoscraper==1.1.12) (4.6.3)\n",
            "Requirement already satisfied: idna<3,>=2.5 in /usr/local/lib/python3.7/dist-packages (from requests->autoscraper==1.1.12) (2.10)\n",
            "Requirement already satisfied: certifi>=2017.4.17 in /usr/local/lib/python3.7/dist-packages (from requests->autoscraper==1.1.12) (2021.10.8)\n",
            "Requirement already satisfied: urllib3!=1.25.0,!=1.25.1,<1.26,>=1.21.1 in /usr/local/lib/python3.7/dist-packages (from requests->autoscraper==1.1.12) (1.24.3)\n",
            "Requirement already satisfied: chardet<4,>=3.0.2 in /usr/local/lib/python3.7/dist-packages (from requests->autoscraper==1.1.12) (3.0.4)\n"
          ]
        }
      ]
    },
    {
      "cell_type": "code",
      "source": [
        "pip install autoscraper"
      ],
      "metadata": {
        "colab": {
          "base_uri": "https://localhost:8080/"
        },
        "id": "TMMGEoQj1j8I",
        "outputId": "8a268b05-5b3e-4efb-f8b0-3cbf996a7896"
      },
      "execution_count": 6,
      "outputs": [
        {
          "output_type": "stream",
          "name": "stdout",
          "text": [
            "Requirement already satisfied: autoscraper in /usr/local/lib/python3.7/dist-packages (1.1.12)\n",
            "Requirement already satisfied: bs4 in /usr/local/lib/python3.7/dist-packages (from autoscraper) (0.0.1)\n",
            "Requirement already satisfied: requests in /usr/local/lib/python3.7/dist-packages (from autoscraper) (2.23.0)\n",
            "Requirement already satisfied: lxml in /usr/local/lib/python3.7/dist-packages (from autoscraper) (4.2.6)\n",
            "Requirement already satisfied: beautifulsoup4 in /usr/local/lib/python3.7/dist-packages (from bs4->autoscraper) (4.6.3)\n",
            "Requirement already satisfied: chardet<4,>=3.0.2 in /usr/local/lib/python3.7/dist-packages (from requests->autoscraper) (3.0.4)\n",
            "Requirement already satisfied: idna<3,>=2.5 in /usr/local/lib/python3.7/dist-packages (from requests->autoscraper) (2.10)\n",
            "Requirement already satisfied: certifi>=2017.4.17 in /usr/local/lib/python3.7/dist-packages (from requests->autoscraper) (2021.10.8)\n",
            "Requirement already satisfied: urllib3!=1.25.0,!=1.25.1,<1.26,>=1.21.1 in /usr/local/lib/python3.7/dist-packages (from requests->autoscraper) (1.24.3)\n"
          ]
        }
      ]
    },
    {
      "cell_type": "code",
      "source": [
        "from autoscraper import AutoScraper"
      ],
      "metadata": {
        "id": "Xl8Ik3XI1vzQ"
      },
      "execution_count": 7,
      "outputs": []
    },
    {
      "cell_type": "code",
      "source": [
        "url = 'https://a-z-animals.com/animals/fish/'\n",
        "wanted_list = ['Albacore Tuna']\n",
        "scraper = AutoScraper()\n",
        "result = scraper.build(url, wanted_list)\n",
        "print(result)"
      ],
      "metadata": {
        "colab": {
          "base_uri": "https://localhost:8080/"
        },
        "id": "cOKf_Eg82-E5",
        "outputId": "5e503b85-e639-44d7-9276-a5eabc745e5a"
      },
      "execution_count": 11,
      "outputs": [
        {
          "output_type": "stream",
          "name": "stdout",
          "text": [
            "['Albacore Tuna', 'Alligator Gar', 'Anchovies', 'Angelfish', 'Anglerfish', 'Arapaima', 'Baiji', 'Banjo Catfish', 'Barb', 'Barracuda', 'Barramundi Fish', 'Basking Shark', 'Beluga Sturgeon', 'Betta Fish (Siamese Fighting Fish)', 'Black Marlin', 'Blobfish', 'Blue Shark', 'Bluefin Tuna', 'Bonito Fish', 'Bonnethead Shark', 'Bowfin', 'Butterfly Fish', 'Carp', 'Catfish', 'Chimaera', 'Chinese Paddlefish', 'Cichlid', 'Clownfish', 'Codfish', 'Coelacanth', 'Cookiecutter Shark', 'Crappie Fish', 'Discus', 'Dragonfish', 'Drum Fish', 'Eel', 'Electric Eel', 'Fangtooth', 'Fish', 'Florida Gar', 'Flounder', 'Flowerhorn Fish', 'Fluke Fish (summer flounder)', 'Flying Fish', 'Frilled Shark', 'Frogfish', 'Gar', 'Garden Eel', 'Goblin Shark', 'Goldfish', 'Great White Shark', 'Greenland Shark', 'Grey Reef Shark', 'Guppy', 'Haddock', 'Hagfish', 'Hammerhead Shark', 'Hardhead Catfish', 'Herring', 'Horn Shark', 'Immortal Jellyfish', 'Jellyfish', 'Koi Fish', 'Krill', 'Lamprey', 'Lionfish', 'Loach', 'Longnose Gar', 'Lungfish', 'Manta Ray', 'Megalodon', 'Megamouth Shark', 'Mekong Giant Catfish', 'Milkfish', 'Molly', 'Monkfish', 'Moray Eel', 'Nurse Shark', 'Oscar Fish', 'Oyster Toadfish', 'Paddlefish', 'Pike Fish', 'Piranha', 'Porbeagle Shark', 'Pufferfish', 'Reef Shark', 'Rockfish', 'Salmon', 'Salmon Shark', 'Sand Tiger Shark', 'Sardines', 'Sawfish', 'Scorpion Fish', 'Sea Dragon', 'Sea Slug', 'Sea Urchin', 'Seahorse', 'Shark', 'Silver Dollar', 'Sixgill shark', 'Skate Fish', 'Skipjack Tuna', 'Sleeper Shark', 'Spinner Shark', 'Spiny Dogfish', 'Sponge', 'Spotted Gar', 'Squirrelfish', 'Starfish', 'Stingray', 'Sturgeon', 'Sucker Fish', 'Swai Fish', 'Tang', 'Tarpon', 'Telescope Fish', 'Tetra', 'Tiger Shark', 'Toadfish', 'Tuna', 'Walking Catfish', 'Walleye Fish', 'Whale Shark', 'Wolf Eel', 'Wolffish', 'Wrasse', 'Yellowfin Tuna', 'Zebra Pleco', 'Zebra Shark']\n"
          ]
        }
      ]
    },
    {
      "cell_type": "code",
      "source": [
        "scraper = AutoScraper()"
      ],
      "metadata": {
        "id": "K845uT9y1ydY"
      },
      "execution_count": 8,
      "outputs": []
    },
    {
      "cell_type": "code",
      "source": [
        "scraper = AutoScraper()\n",
        "result = scraper.build(url, wanted_list)\n",
        "print(result)"
      ],
      "metadata": {
        "colab": {
          "base_uri": "https://localhost:8080/"
        },
        "id": "8lAJfITB1_DR",
        "outputId": "dbec26e5-d9dc-41ec-83a1-85e90e4e5c25"
      },
      "execution_count": 10,
      "outputs": [
        {
          "output_type": "stream",
          "name": "stdout",
          "text": [
            "[]\n"
          ]
        }
      ]
    }
  ]
}